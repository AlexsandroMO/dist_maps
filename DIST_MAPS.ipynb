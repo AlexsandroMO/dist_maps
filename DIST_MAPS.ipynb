{
 "cells": [
  {
   "cell_type": "code",
   "execution_count": 3,
   "id": "0e631efd-b248-4c91-a0c4-5d68c842aab9",
   "metadata": {},
   "outputs": [],
   "source": [
    "import requests\n",
    "import pandas as pd\n",
    "import json"
   ]
  },
  {
   "cell_type": "code",
   "execution_count": 4,
   "id": "e8eea009-c91a-45d3-81f6-2fba7bf235ce",
   "metadata": {},
   "outputs": [],
   "source": [
    "read_0 = pd.read_excel('Transpetro.xlsx','RESUMO_0')\n",
    "read_1 = pd.read_excel('Transpetro.xlsx','RESUMO_1')\n",
    "read_2 = pd.read_excel('Transpetro.xlsx','RESUMO_2')\n",
    "read_3 = pd.read_excel('Transpetro.xlsx','RESUMO_3')\n",
    "read_4 = pd.read_excel('Transpetro.xlsx','RESUMO_4')\n",
    "read_5 = pd.read_excel('Transpetro.xlsx','RESUMO_5')\n",
    "\n",
    "list_read = [read_5,read_0,read_1,read_2,read_3,read_4]"
   ]
  },
  {
   "cell_type": "code",
   "execution_count": null,
   "id": "13b0860f-51f4-4349-8722-75987c8d22fe",
   "metadata": {},
   "outputs": [
    {
     "name": "stdout",
     "output_type": "stream",
     "text": [
      "Mal feito, feito!\n"
     ]
    }
   ],
   "source": [
    "for read in list_read:\n",
    "    cont = 0\n",
    "    big_Maps_Key = \"AkSCnokD8nDt2iyCJ9fznhZvcZSNbv7aTwS_RSXqIOd2bHu_bMRjxQUPL3c57BVw\"\n",
    "    new = []\n",
    "    for i in range(len(read['CEP_1'])) :\n",
    "        origin = read['CEP_1'].loc[i]\n",
    "        destination = read['CEP_2'].loc[i]\n",
    "        route = \"http://dev.virtualearth.net/REST/V1/Routes/Driving?wp.0=\" + origin + \"&wp.1=\" + destination + \"/&key=\" + big_Maps_Key\n",
    "        \n",
    "        r = requests.get(url = route)\n",
    "        result = r.json()\n",
    "        #print(r,origin, destination)\n",
    "        if str(r) == '<Response [200]>':\n",
    "          route = \"http://dev.virtualearth.net/REST/V1/Routes/Driving?wp.0=\" + origin + \"&wp.1=\" + destination + \"/&key=\" + big_Maps_Key\n",
    "          #print([origin,destination,result['resourceSets'][0]['resources'][0]['travelDistance']])\n",
    "          new.append([origin,destination,result['resourceSets'][0]['resources'][0]['travelDistance']])\n",
    "        else:\n",
    "          #print('CEP Não Identificado')\n",
    "          new.append([origin,destination,'CEP Não Identificado'])\n",
    "    \n",
    "    df = pd.DataFrame(new, columns=['CEP_1', 'CEP_2', 'DIS'])\n",
    "    df.to_excel('RESULT_' + str(cont) + '.xlsx', index=False)\n",
    "    cont += 1\n",
    "    print('Mal feito, feito!')\n",
    "\n",
    "print('Finite!')"
   ]
  },
  {
   "cell_type": "code",
   "execution_count": null,
   "id": "48b62ba4-2f1c-4957-9acf-76e856395d8a",
   "metadata": {},
   "outputs": [],
   "source": []
  },
  {
   "cell_type": "code",
   "execution_count": null,
   "id": "cd9bed70-e336-4e1e-93ba-02f2b6095253",
   "metadata": {},
   "outputs": [],
   "source": []
  }
 ],
 "metadata": {
  "kernelspec": {
   "display_name": "Python 3 (ipykernel)",
   "language": "python",
   "name": "python3"
  },
  "language_info": {
   "codemirror_mode": {
    "name": "ipython",
    "version": 3
   },
   "file_extension": ".py",
   "mimetype": "text/x-python",
   "name": "python",
   "nbconvert_exporter": "python",
   "pygments_lexer": "ipython3",
   "version": "3.12.1"
  }
 },
 "nbformat": 4,
 "nbformat_minor": 5
}
